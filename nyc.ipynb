{
 "cells": [
  {
   "cell_type": "code",
   "execution_count": null,
   "id": "f095978a",
   "metadata": {},
   "outputs": [],
   "source": [
    "import pandas as pd\n",
    "import numpy as np\n",
    "import matplotlib.pyplot as plt\n",
    "import seaborn as sns\n",
    "\n",
    "%matplotlib inline\n"
   ]
  },
  {
   "cell_type": "code",
   "execution_count": null,
   "id": "edf75a27",
   "metadata": {},
   "outputs": [],
   "source": [
    "nyc = pd.read_csv('NY-House-Dataset.csv')\n",
    "nyc.head()"
   ]
  },
  {
   "cell_type": "code",
   "execution_count": null,
   "id": "c9e3c4f8",
   "metadata": {},
   "outputs": [],
   "source": [
    "nyc.info()"
   ]
  },
  {
   "cell_type": "code",
   "execution_count": null,
   "id": "14f57a5e",
   "metadata": {},
   "outputs": [],
   "source": [
    "nyc.describe()"
   ]
  },
  {
   "cell_type": "code",
   "execution_count": null,
   "id": "ee5fd31f",
   "metadata": {},
   "outputs": [],
   "source": [
    "## Check the missing Values\n",
    "nyc.isnull().sum()"
   ]
  },
  {
   "cell_type": "code",
   "execution_count": null,
   "id": "5dc8fe9c",
   "metadata": {},
   "outputs": [],
   "source": [
    "# Exploratory Data Analysis\n",
    "# Correlation\n",
    "nyc.corr()"
   ]
  },
  {
   "cell_type": "code",
   "execution_count": null,
   "id": "426eb300",
   "metadata": {},
   "outputs": [],
   "source": [
    "# sns.pairplot(nyc)"
   ]
  },
  {
   "cell_type": "markdown",
   "id": "64ac023c",
   "metadata": {},
   "source": [
    "## Analyzing The Correlated Features"
   ]
  },
  {
   "cell_type": "code",
   "execution_count": null,
   "id": "fd719c5c",
   "metadata": {},
   "outputs": [],
   "source": [
    "nyc.corr()"
   ]
  },
  {
   "cell_type": "code",
   "execution_count": null,
   "id": "7d10e424",
   "metadata": {},
   "outputs": [],
   "source": [
    "plt.scatter(nyc['PROPERTYSQFT'], nyc['PRICE'])\n",
    "plt.xlabel(\"Property SQFT\")\n",
    "plt.ylabel(\"Price\")"
   ]
  },
  {
   "cell_type": "code",
   "execution_count": null,
   "id": "c685dbe9",
   "metadata": {},
   "outputs": [],
   "source": [
    "plt.scatter(nyc['BEDS'],nyc['BATH'])\n",
    "plt.xlabel(\"Bedroom\")\n",
    "plt.ylabel(\"Bathroom\")"
   ]
  },
  {
   "cell_type": "markdown",
   "id": "3a27b1fb",
   "metadata": {},
   "source": [
    "## Scatter Plot - Price vs. Property Square Footage"
   ]
  },
  {
   "cell_type": "code",
   "execution_count": null,
   "id": "6c60bf10",
   "metadata": {
    "scrolled": true
   },
   "outputs": [],
   "source": [
    "\n",
    "nyc['Log_PROPERTYSQFT'] = np.log(nyc['PROPERTYSQFT'])\n",
    "nyc['Log_PRICE'] = np.log(nyc['PRICE'])\n",
    "\n",
    "# Create the scatter plot\n",
    "plt.figure(figsize=(10, 6))\n",
    "scatter_plot = sns.scatterplot(data=nyc, x='Log_PROPERTYSQFT', y='Log_PRICE', hue='TYPE')\n",
    "\n",
    "# Setting the title and labels\n",
    "scatter_plot.set_title('Price vs. Property Square Footage (Logarithmic Scale)')\n",
    "scatter_plot.set_xlabel('Log of Property Square Footage')\n",
    "scatter_plot.set_ylabel('Log of Price')\n",
    "\n",
    "# Show the plot\n",
    "plt.show()\n"
   ]
  },
  {
   "cell_type": "markdown",
   "id": "a6e8293f",
   "metadata": {},
   "source": [
    "## Price Distribution by House Type (Logarithmic Scale)"
   ]
  },
  {
   "cell_type": "code",
   "execution_count": null,
   "id": "1f926a73",
   "metadata": {},
   "outputs": [],
   "source": [
    "\n",
    "# Create the box plot\n",
    "plt.figure(figsize=(12, 8))  # Adjust the figure size as needed\n",
    "box_plot = sns.boxplot(data=nyc, x='TYPE', y='PRICE', palette='Set3')\n",
    "\n",
    "# Setting the title and labels\n",
    "box_plot.set_title('Price Distribution by House Type (Logarithmic Scale)')\n",
    "box_plot.set_xlabel('House Type')\n",
    "box_plot.set_ylabel('Price')\n",
    "\n",
    "# Set the y-axis to logarithmic scale\n",
    "box_plot.set_yscale('log')\n",
    "\n",
    "# Rotate x-axis labels\n",
    "plt.xticks(rotation=45, ha='right')  # Rotate the labels and align right\n",
    "\n",
    "# Improve layout\n",
    "plt.tight_layout()\n",
    "\n",
    "# Show the plot\n",
    "plt.show()\n",
    "\n"
   ]
  },
  {
   "cell_type": "markdown",
   "id": "654da935",
   "metadata": {},
   "source": [
    "## Distribution of Real Estate"
   ]
  },
  {
   "cell_type": "code",
   "execution_count": null,
   "id": "d6813149",
   "metadata": {},
   "outputs": [],
   "source": [
    "# Plot\n",
    "plt.figure(figsize=(12, 8))  # Size of the figure\n",
    "plt.scatter(nyc['LONGITUDE'], nyc['LATITUDE'], c=nyc['PRICE'], cmap='viridis')  # Color by PRICE\n",
    "\n",
    "# Title and labels\n",
    "plt.title('Distribution of Real Estate')\n",
    "plt.xlabel('Longitude')\n",
    "plt.ylabel('Latitude')\n",
    "\n",
    "# Colorbar\n",
    "plt.colorbar(label='Price')\n",
    "\n",
    "# Show the plot\n",
    "plt.show()\n"
   ]
  },
  {
   "cell_type": "code",
   "execution_count": null,
   "id": "5aedb291",
   "metadata": {},
   "outputs": [],
   "source": [
    "# Perform one-hot encoding on the 'TYPE' column\n",
    "nyc_encoded = pd.get_dummies(nyc, columns=['TYPE'])\n",
    "\n",
    "# Now, nyc_encoded has additional columns, one for each property type,\n",
    "# with binary indicators. You can use this dataframe to feed into a model.\n",
    "\n",
    "# Let's view the first few rows to confirm the encoding\n",
    "nyc_encoded.head()\n",
    "\n",
    "\n",
    "# Splitting the data into features and target variable\n",
    "X = nyc_encoded.drop(['PRICE','ADDRESS', 'MAIN_ADDRESS', 'FORMATTED_ADDRESS', 'BROKERTITLE','STATE', \n",
    "                      'ADMINISTRATIVE_AREA_LEVEL_2','LOCALITY','SUBLOCALITY','STREET_NAME',\n",
    "                      'LONG_NAME', 'Log_PRICE'], axis=1)  # Drop non-encoded and target columns\n",
    "y = nyc_encoded['Log_PRICE']  # Use the logarithm of the price as the target\n",
    "\n",
    "\n",
    "\n"
   ]
  },
  {
   "cell_type": "code",
   "execution_count": null,
   "id": "12600f00",
   "metadata": {},
   "outputs": [],
   "source": [
    "X"
   ]
  },
  {
   "cell_type": "code",
   "execution_count": null,
   "id": "00971265",
   "metadata": {},
   "outputs": [],
   "source": [
    "y"
   ]
  },
  {
   "cell_type": "code",
   "execution_count": null,
   "id": "750cb696",
   "metadata": {
    "scrolled": true
   },
   "outputs": [],
   "source": [
    "##Train Test Split\n",
    "from sklearn.model_selection import train_test_split\n",
    "X_train,X_test,y_train,y_test=train_test_split(X,y,test_size=0.3,random_state=42)"
   ]
  },
  {
   "cell_type": "code",
   "execution_count": null,
   "id": "7dd807c3",
   "metadata": {},
   "outputs": [],
   "source": [
    "X_train"
   ]
  },
  {
   "cell_type": "code",
   "execution_count": null,
   "id": "01a8404e",
   "metadata": {},
   "outputs": [],
   "source": [
    "X_test"
   ]
  },
  {
   "cell_type": "code",
   "execution_count": null,
   "id": "e80e6038",
   "metadata": {},
   "outputs": [],
   "source": [
    "## Standardize the dataset\n",
    "from sklearn.preprocessing import StandardScaler\n",
    "scaler=StandardScaler()"
   ]
  },
  {
   "cell_type": "code",
   "execution_count": null,
   "id": "7269b215",
   "metadata": {},
   "outputs": [],
   "source": [
    "X_train=scaler.fit_transform(X_train)"
   ]
  },
  {
   "cell_type": "code",
   "execution_count": null,
   "id": "3af84073",
   "metadata": {},
   "outputs": [],
   "source": [
    "X_test=scaler.transform(X_test)"
   ]
  },
  {
   "cell_type": "markdown",
   "id": "8a0142b6",
   "metadata": {},
   "source": [
    "## Model Training"
   ]
  },
  {
   "cell_type": "code",
   "execution_count": null,
   "id": "7cc65d23",
   "metadata": {},
   "outputs": [],
   "source": [
    "from sklearn.linear_model import LinearRegression"
   ]
  },
  {
   "cell_type": "code",
   "execution_count": null,
   "id": "b173add6",
   "metadata": {},
   "outputs": [],
   "source": [
    "regression=LinearRegression()"
   ]
  },
  {
   "cell_type": "code",
   "execution_count": null,
   "id": "dc7ff9f3",
   "metadata": {},
   "outputs": [],
   "source": [
    "regression.fit(X_train,y_train)"
   ]
  },
  {
   "cell_type": "code",
   "execution_count": null,
   "id": "79f55232",
   "metadata": {},
   "outputs": [],
   "source": [
    "## print the coefficients and the intercept\n",
    "print(regression.coef_)"
   ]
  },
  {
   "cell_type": "code",
   "execution_count": null,
   "id": "532f083c",
   "metadata": {},
   "outputs": [],
   "source": [
    "## on which parameters the model has been trained\n",
    "regression.get_params()"
   ]
  },
  {
   "cell_type": "code",
   "execution_count": null,
   "id": "4da496a7",
   "metadata": {},
   "outputs": [],
   "source": [
    "### Prediction With Test Data\n",
    "reg_pred=regression.predict(X_test)"
   ]
  },
  {
   "cell_type": "code",
   "execution_count": null,
   "id": "230e323e",
   "metadata": {},
   "outputs": [],
   "source": [
    "reg_pred"
   ]
  },
  {
   "cell_type": "markdown",
   "id": "a4388487",
   "metadata": {},
   "source": [
    "## Assumptions"
   ]
  },
  {
   "cell_type": "code",
   "execution_count": null,
   "id": "fcfb3db1",
   "metadata": {},
   "outputs": [],
   "source": [
    "## plot a scatter plot for the prediction\n",
    "plt.scatter(y_test,reg_pred)"
   ]
  },
  {
   "cell_type": "code",
   "execution_count": null,
   "id": "d67a0d99",
   "metadata": {},
   "outputs": [],
   "source": [
    "## Residuals\n",
    "residuals=y_test-reg_pred"
   ]
  },
  {
   "cell_type": "code",
   "execution_count": null,
   "id": "53965bf6",
   "metadata": {},
   "outputs": [],
   "source": [
    "residuals"
   ]
  },
  {
   "cell_type": "code",
   "execution_count": null,
   "id": "03911874",
   "metadata": {},
   "outputs": [],
   "source": [
    "## Plot this residuals \n",
    "\n",
    "sns.displot(residuals,kind=\"kde\")"
   ]
  },
  {
   "cell_type": "code",
   "execution_count": null,
   "id": "1864467d",
   "metadata": {},
   "outputs": [],
   "source": [
    "## Scatter plot with respect to prediction and residuals\n",
    "## uniform distribution\n",
    "plt.scatter(reg_pred,residuals)"
   ]
  },
  {
   "cell_type": "code",
   "execution_count": null,
   "id": "44f1aeea",
   "metadata": {},
   "outputs": [],
   "source": [
    "from sklearn.metrics import mean_squared_error\n",
    "from sklearn.metrics import mean_absolute_error\n",
    "\n",
    "print(mean_absolute_error(y_test,reg_pred))\n",
    "print(mean_squared_error(y_test,reg_pred))\n",
    "print(np.sqrt(mean_squared_error(y_test,reg_pred)))"
   ]
  },
  {
   "cell_type": "markdown",
   "id": "027b279c",
   "metadata": {},
   "source": [
    "## R square and adjusted R square"
   ]
  },
  {
   "cell_type": "code",
   "execution_count": null,
   "id": "7d4bd830",
   "metadata": {},
   "outputs": [],
   "source": [
    "#R^2 = coefficient of determination SSR = sum of squares of residuals SST = total sum of squares\n",
    "from sklearn.metrics import r2_score\n",
    "score=r2_score(y_test,reg_pred)\n",
    "print(score)"
   ]
  },
  {
   "cell_type": "code",
   "execution_count": null,
   "id": "ca3fda2c",
   "metadata": {},
   "outputs": [],
   "source": [
    "# Adjusted R2 = 1 – [(1-R2)*(n-1)/(n-k-1)]\n",
    "#display adjusted R-squared\n",
    "1 - (1-score)*(len(y_test)-1)/(len(y_test)-X_test.shape[1]-1)"
   ]
  },
  {
   "cell_type": "markdown",
   "id": "ca4bbd66",
   "metadata": {},
   "source": [
    "## New Data Prediction"
   ]
  },
  {
   "cell_type": "code",
   "execution_count": null,
   "id": "98eb74be",
   "metadata": {},
   "outputs": [],
   "source": [
    "nyc.columns"
   ]
  },
  {
   "cell_type": "code",
   "execution_count": null,
   "id": "00fe6e00",
   "metadata": {},
   "outputs": [],
   "source": [
    "X.columns"
   ]
  },
  {
   "cell_type": "code",
   "execution_count": null,
   "id": "e13f5d8e",
   "metadata": {},
   "outputs": [],
   "source": [
    "\n",
    "\n",
    "# Selecting the features from the first row\n",
    "sample_features = nyc_encoded.loc[0, X.columns].values\n",
    "\n",
    "# Reshaping into a 2D array\n",
    "sample_features_reshaped = sample_features.reshape(1, -1)\n",
    "\n",
    "sample_features_reshaped\n"
   ]
  },
  {
   "cell_type": "code",
   "execution_count": null,
   "id": "f301e364",
   "metadata": {},
   "outputs": [],
   "source": [
    "scaler.transform(sample_features_reshaped)"
   ]
  },
  {
   "cell_type": "code",
   "execution_count": null,
   "id": "c6c423fc",
   "metadata": {},
   "outputs": [],
   "source": [
    "regression.predict(scaler.transform(sample_features_reshaped.reshape(1,-1)))"
   ]
  },
  {
   "cell_type": "markdown",
   "id": "3f56f2ce",
   "metadata": {},
   "source": [
    "## Pickling Model File For Deployment"
   ]
  },
  {
   "cell_type": "code",
   "execution_count": null,
   "id": "03151d0f",
   "metadata": {},
   "outputs": [],
   "source": [
    "import pickle"
   ]
  },
  {
   "cell_type": "code",
   "execution_count": null,
   "id": "adca9075",
   "metadata": {},
   "outputs": [],
   "source": [
    "pickle.dump(regression,open('regmodel.pkl', 'wb'))"
   ]
  },
  {
   "cell_type": "code",
   "execution_count": null,
   "id": "5e6100cd",
   "metadata": {},
   "outputs": [],
   "source": [
    "pickled_model = pickle.load(open('regmodel.pkl', 'rb'))"
   ]
  },
  {
   "cell_type": "code",
   "execution_count": null,
   "id": "3d235efa",
   "metadata": {},
   "outputs": [],
   "source": [
    "pickled_model.predict(scaler.transform(sample_features_reshaped.reshape(1,-1)))"
   ]
  },
  {
   "cell_type": "code",
   "execution_count": null,
   "id": "d8021d16",
   "metadata": {},
   "outputs": [],
   "source": []
  }
 ],
 "metadata": {
  "kernelspec": {
   "display_name": "Python 3 (ipykernel)",
   "language": "python",
   "name": "python3"
  },
  "language_info": {
   "codemirror_mode": {
    "name": "ipython",
    "version": 3
   },
   "file_extension": ".py",
   "mimetype": "text/x-python",
   "name": "python",
   "nbconvert_exporter": "python",
   "pygments_lexer": "ipython3",
   "version": "3.9.13"
  }
 },
 "nbformat": 4,
 "nbformat_minor": 5
}
